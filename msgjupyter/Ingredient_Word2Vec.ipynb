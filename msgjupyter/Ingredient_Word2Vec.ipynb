{
 "cells": [
  {
   "cell_type": "code",
   "execution_count": 1,
   "metadata": {},
   "outputs": [],
   "source": [
    "import pandas as pd\n",
    "import numpy as np\n",
    "import urllib.request\n",
    "from konlpy.tag import Okt\n",
    "from gensim.models.word2vec import Word2Vec\n",
    "import matplotlib.pyplot as plt"
   ]
  },
  {
   "cell_type": "code",
   "execution_count": 2,
   "metadata": {},
   "outputs": [
    {
     "data": {
      "text/html": [
       "<div>\n",
       "<style scoped>\n",
       "    .dataframe tbody tr th:only-of-type {\n",
       "        vertical-align: middle;\n",
       "    }\n",
       "\n",
       "    .dataframe tbody tr th {\n",
       "        vertical-align: top;\n",
       "    }\n",
       "\n",
       "    .dataframe thead th {\n",
       "        text-align: right;\n",
       "    }\n",
       "</style>\n",
       "<table border=\"1\" class=\"dataframe\">\n",
       "  <thead>\n",
       "    <tr style=\"text-align: right;\">\n",
       "      <th></th>\n",
       "      <th>제목</th>\n",
       "      <th>설명</th>\n",
       "      <th>팁</th>\n",
       "    </tr>\n",
       "    <tr>\n",
       "      <th>id</th>\n",
       "      <th></th>\n",
       "      <th></th>\n",
       "      <th></th>\n",
       "    </tr>\n",
       "  </thead>\n",
       "  <tbody>\n",
       "    <tr>\n",
       "      <th>1</th>\n",
       "      <td>밥솥 오리고기 짜장라면몸에 열을 내주는 겨울간식</td>\n",
       "      <td>짜장라면에 오리고기가 잘 맞아요. 오리기름이 몸에 해롭지 않은 기름이고 오리고기가 ...</td>\n",
       "      <td>오리기름이 몸에 해롭지 않은 기름이고 오리고기가 몸에 열을 내는 성질이 있어 겨울철...</td>\n",
       "    </tr>\n",
       "    <tr>\n",
       "      <th>2</th>\n",
       "      <td>69레시피 불고기 소고기볶음반찬</td>\n",
       "      <td>볶음 불고기를 해보았어요. 불고기용 고기를 사용하였어요. 반찬으로 만든거라 2인분으...</td>\n",
       "      <td>고기의 양이나 야채의 양, 또는 간장의 종류에 따라 간이 달라지므로 중간에 한번 간...</td>\n",
       "    </tr>\n",
       "    <tr>\n",
       "      <th>3</th>\n",
       "      <td>풋마늘 건새우 볶음나트륨 배출을 돕는 최애 반찬</td>\n",
       "      <td>풋마늘은 나트륨 배출은 물론 신지대사의 활성화를 돕는다천기누설 위의 양념에는 딱딱한...</td>\n",
       "      <td>위의 양념에는 딱딱한 건새우보다 조금 작고 얇은 보리새우가 더 맛있는것 같습니다. ...</td>\n",
       "    </tr>\n",
       "    <tr>\n",
       "      <th>4</th>\n",
       "      <td>최애반찬 소시지 감자조림</td>\n",
       "      <td>감자조림에 비엔나소시지 넣고 조린 소시지 감자조림인데  아이, 어른 함께 호불호 없...</td>\n",
       "      <td>비엔나소시지 대신 햄 넣고 만들어도 좋아요</td>\n",
       "    </tr>\n",
       "    <tr>\n",
       "      <th>5</th>\n",
       "      <td>버섯으로 관자 느낌 내는 방법! 새송이버섯간장버터구이 만들기</td>\n",
       "      <td>지금까지 이런 버섯은 없었다. 이것은 관자인가 버섯인가 재료 새송이버섯 2개, 버터...</td>\n",
       "      <td></td>\n",
       "    </tr>\n",
       "  </tbody>\n",
       "</table>\n",
       "</div>"
      ],
      "text/plain": [
       "                                   제목  \\\n",
       "id                                      \n",
       "1          밥솥 오리고기 짜장라면몸에 열을 내주는 겨울간식   \n",
       "2                   69레시피 불고기 소고기볶음반찬   \n",
       "3          풋마늘 건새우 볶음나트륨 배출을 돕는 최애 반찬   \n",
       "4                       최애반찬 소시지 감자조림   \n",
       "5   버섯으로 관자 느낌 내는 방법! 새송이버섯간장버터구이 만들기   \n",
       "\n",
       "                                                   설명  \\\n",
       "id                                                      \n",
       "1   짜장라면에 오리고기가 잘 맞아요. 오리기름이 몸에 해롭지 않은 기름이고 오리고기가 ...   \n",
       "2   볶음 불고기를 해보았어요. 불고기용 고기를 사용하였어요. 반찬으로 만든거라 2인분으...   \n",
       "3   풋마늘은 나트륨 배출은 물론 신지대사의 활성화를 돕는다천기누설 위의 양념에는 딱딱한...   \n",
       "4   감자조림에 비엔나소시지 넣고 조린 소시지 감자조림인데  아이, 어른 함께 호불호 없...   \n",
       "5   지금까지 이런 버섯은 없었다. 이것은 관자인가 버섯인가 재료 새송이버섯 2개, 버터...   \n",
       "\n",
       "                                                    팁  \n",
       "id                                                     \n",
       "1   오리기름이 몸에 해롭지 않은 기름이고 오리고기가 몸에 열을 내는 성질이 있어 겨울철...  \n",
       "2   고기의 양이나 야채의 양, 또는 간장의 종류에 따라 간이 달라지므로 중간에 한번 간...  \n",
       "3   위의 양념에는 딱딱한 건새우보다 조금 작고 얇은 보리새우가 더 맛있는것 같습니다. ...  \n",
       "4                             비엔나소시지 대신 햄 넣고 만들어도 좋아요  \n",
       "5                                                      "
      ]
     },
     "execution_count": 2,
     "metadata": {},
     "output_type": "execute_result"
    }
   ],
   "source": [
    "recipe = pd.read_csv('./data/recipe_db.csv', index_col=0)\n",
    "recipe = recipe.fillna('')\n",
    "recipe.head()"
   ]
  },
  {
   "cell_type": "code",
   "execution_count": 3,
   "metadata": {},
   "outputs": [
    {
     "data": {
      "text/html": [
       "<div>\n",
       "<style scoped>\n",
       "    .dataframe tbody tr th:only-of-type {\n",
       "        vertical-align: middle;\n",
       "    }\n",
       "\n",
       "    .dataframe tbody tr th {\n",
       "        vertical-align: top;\n",
       "    }\n",
       "\n",
       "    .dataframe thead th {\n",
       "        text-align: right;\n",
       "    }\n",
       "</style>\n",
       "<table border=\"1\" class=\"dataframe\">\n",
       "  <thead>\n",
       "    <tr style=\"text-align: right;\">\n",
       "      <th></th>\n",
       "      <th>data</th>\n",
       "    </tr>\n",
       "    <tr>\n",
       "      <th>id</th>\n",
       "      <th></th>\n",
       "    </tr>\n",
       "  </thead>\n",
       "  <tbody>\n",
       "    <tr>\n",
       "      <th>1</th>\n",
       "      <td>밥솥 오리고기 짜장라면몸에 열을 내주는 겨울간식 짜장라면에 오리고기가 잘 맞아요. ...</td>\n",
       "    </tr>\n",
       "    <tr>\n",
       "      <th>2</th>\n",
       "      <td>69레시피 불고기 소고기볶음반찬 볶음 불고기를 해보았어요. 불고기용 고기를 사용하였...</td>\n",
       "    </tr>\n",
       "    <tr>\n",
       "      <th>3</th>\n",
       "      <td>풋마늘 건새우 볶음나트륨 배출을 돕는 최애 반찬 풋마늘은 나트륨 배출은 물론 신지대...</td>\n",
       "    </tr>\n",
       "    <tr>\n",
       "      <th>4</th>\n",
       "      <td>최애반찬 소시지 감자조림 감자조림에 비엔나소시지 넣고 조린 소시지 감자조림인데  아...</td>\n",
       "    </tr>\n",
       "    <tr>\n",
       "      <th>5</th>\n",
       "      <td>버섯으로 관자 느낌 내는 방법! 새송이버섯간장버터구이 만들기 지금까지 이런 버섯은 ...</td>\n",
       "    </tr>\n",
       "  </tbody>\n",
       "</table>\n",
       "</div>"
      ],
      "text/plain": [
       "                                                 data\n",
       "id                                                   \n",
       "1   밥솥 오리고기 짜장라면몸에 열을 내주는 겨울간식 짜장라면에 오리고기가 잘 맞아요. ...\n",
       "2   69레시피 불고기 소고기볶음반찬 볶음 불고기를 해보았어요. 불고기용 고기를 사용하였...\n",
       "3   풋마늘 건새우 볶음나트륨 배출을 돕는 최애 반찬 풋마늘은 나트륨 배출은 물론 신지대...\n",
       "4   최애반찬 소시지 감자조림 감자조림에 비엔나소시지 넣고 조린 소시지 감자조림인데  아...\n",
       "5   버섯으로 관자 느낌 내는 방법! 새송이버섯간장버터구이 만들기 지금까지 이런 버섯은 ..."
      ]
     },
     "execution_count": 3,
     "metadata": {},
     "output_type": "execute_result"
    }
   ],
   "source": [
    "recipe['data'] = recipe['제목'] + ' ' + recipe['설명'] + ' ' + recipe['팁']\n",
    "del recipe['제목']\n",
    "del recipe['설명']\n",
    "del recipe['팁']\n",
    "recipe.head()"
   ]
  },
  {
   "cell_type": "code",
   "execution_count": 4,
   "metadata": {},
   "outputs": [],
   "source": [
    "recipe.to_csv(\"./data/recipe_word2vec_data.csv\", mode='w')\n",
    "data = pd.read_csv('./data/recipe_word2vec_data.csv', index_col=0)"
   ]
  },
  {
   "cell_type": "code",
   "execution_count": 5,
   "metadata": {},
   "outputs": [],
   "source": [
    "stopwords = ['의','가','이','은','들','는','좀','잘','걍','과','도','를','으로','자','에','와','한','하다', '스푼', '큰술', '큰 술', '작은술', '작은 술', '숟갈', '조각', '종이컵', '컵', '그램', 'g', 'T', 'ml', 'L']"
   ]
  },
  {
   "cell_type": "code",
   "execution_count": 6,
   "metadata": {},
   "outputs": [
    {
     "name": "stdout",
     "output_type": "stream",
     "text": [
      "레시피의 최대 길이 : 914\n",
      "렛의 평균 길이 : 242.11029941846493\n"
     ]
    },
    {
     "data": {
      "image/png": "[encoded data removed]",
      "text/plain": [
       "<Figure size 432x288 with 1 Axes>"
      ]
     },
     "metadata": {
      "needs_background": "light"
     },
     "output_type": "display_data"
    }
   ],
   "source": [
    "okt = Okt()\n",
    "tokenized_data = []\n",
    "for sentence in data['data']:\n",
    "    temp_X = okt.morphs(sentence, stem=True) # 토큰화\n",
    "    temp_X = [word for word in temp_X if not word in stopwords] # 불용어 제거\n",
    "    tokenized_data.append(temp_X)\n",
    "print('레시피의 최대 길이 :',max(len(l) for l in tokenized_data))\n",
    "print('렛의 평균 길이 :',sum(map(len, tokenized_data))/len(tokenized_data))\n",
    "plt.hist([len(s) for s in tokenized_data], bins=50)\n",
    "plt.xlabel('length of samples')\n",
    "plt.ylabel('number of samples')\n",
    "plt.show()"
   ]
  },
  {
   "cell_type": "code",
   "execution_count": 7,
   "metadata": {},
   "outputs": [],
   "source": [
    "model = Word2Vec(sentences = tokenized_data, size = 100, window = 5, min_count = 5, workers = 4, sg = 0)"
   ]
  },
  {
   "cell_type": "code",
   "execution_count": 8,
   "metadata": {},
   "outputs": [
    {
     "data": {
      "text/plain": [
       "(13126, 100)"
      ]
     },
     "execution_count": 8,
     "metadata": {},
     "output_type": "execute_result"
    }
   ],
   "source": [
    "model.wv.vectors.shape"
   ]
  },
  {
   "cell_type": "code",
   "execution_count": 9,
   "metadata": {},
   "outputs": [
    {
     "name": "stdout",
     "output_type": "stream",
     "text": [
      "[('쇠고기', 0.7618555426597595), ('소고기', 0.7514750957489014), ('목살', 0.7054042816162109), ('고기', 0.6532403230667114), ('앞다리', 0.6281648874282837), ('돼지', 0.6179356575012207), ('등심', 0.614638090133667), ('삼겹살', 0.5928285121917725), ('사태', 0.5782474279403687), ('닭고기', 0.5604683756828308)]\n"
     ]
    }
   ],
   "source": [
    "result = model.wv.most_similar(\"돼지고기\")\n",
    "print(result)"
   ]
  }
 ],
 "metadata": {
  "kernelspec": {
   "display_name": "Python 3",
   "language": "python",
   "name": "python3"
  },
  "language_info": {
   "codemirror_mode": {
    "name": "ipython",
    "version": 3
   },
   "file_extension": ".py",
   "mimetype": "text/x-python",
   "name": "python",
   "nbconvert_exporter": "python",
   "pygments_lexer": "ipython3",
   "version": "3.7.7"
  }
 },
 "nbformat": 4,
 "nbformat_minor": 4
}
