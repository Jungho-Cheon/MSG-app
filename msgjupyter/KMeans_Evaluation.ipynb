{
 "cells": [
  {
   "cell_type": "code",
   "execution_count": 25,
   "metadata": {},
   "outputs": [],
   "source": [
    "import pandas as pd\n",
    "import numpy as np\n",
    "from sklearn.cluster import KMeans\n",
    "import matplotlib.pyplot as plt\n",
    "from matplotlib.image import imread\n",
    "import pandas as pd\n",
    "import seaborn as sns\n",
    "from sklearn.metrics import silhouette_samples, silhouette_score\n",
    "from sklearn.decomposition import PCA\n",
    "from matplotlib import colors as mcolors\n",
    "import math\n",
    "from mpl_toolkits.mplot3d import Axes3D\n",
    "import matplotlib.pyplot as plt"
   ]
  },
  {
   "cell_type": "code",
   "execution_count": 26,
   "metadata": {},
   "outputs": [
    {
     "data": {
      "text/html": [
       "<div>\n",
       "<style scoped>\n",
       "    .dataframe tbody tr th:only-of-type {\n",
       "        vertical-align: middle;\n",
       "    }\n",
       "\n",
       "    .dataframe tbody tr th {\n",
       "        vertical-align: top;\n",
       "    }\n",
       "\n",
       "    .dataframe thead th {\n",
       "        text-align: right;\n",
       "    }\n",
       "</style>\n",
       "<table border=\"1\" class=\"dataframe\">\n",
       "  <thead>\n",
       "    <tr style=\"text-align: right;\">\n",
       "      <th></th>\n",
       "      <th>돼지고기</th>\n",
       "      <th>소고기</th>\n",
       "      <th>닭고기</th>\n",
       "      <th>오리고기</th>\n",
       "      <th>양고기</th>\n",
       "      <th>생선</th>\n",
       "      <th>갑각류</th>\n",
       "      <th>조개류</th>\n",
       "      <th>해조류</th>\n",
       "      <th>두족류</th>\n",
       "      <th>...</th>\n",
       "      <th>면류</th>\n",
       "      <th>소스장류</th>\n",
       "      <th>유지류</th>\n",
       "      <th>조미료</th>\n",
       "      <th>육수</th>\n",
       "      <th>가루</th>\n",
       "      <th>즉석식품</th>\n",
       "      <th>건조식품</th>\n",
       "      <th>빵류</th>\n",
       "      <th>주류</th>\n",
       "    </tr>\n",
       "    <tr>\n",
       "      <th>RECIPE_TITLE</th>\n",
       "      <th></th>\n",
       "      <th></th>\n",
       "      <th></th>\n",
       "      <th></th>\n",
       "      <th></th>\n",
       "      <th></th>\n",
       "      <th></th>\n",
       "      <th></th>\n",
       "      <th></th>\n",
       "      <th></th>\n",
       "      <th></th>\n",
       "      <th></th>\n",
       "      <th></th>\n",
       "      <th></th>\n",
       "      <th></th>\n",
       "      <th></th>\n",
       "      <th></th>\n",
       "      <th></th>\n",
       "      <th></th>\n",
       "      <th></th>\n",
       "      <th></th>\n",
       "    </tr>\n",
       "  </thead>\n",
       "  <tbody>\n",
       "    <tr>\n",
       "      <th>밥솥 오리고기 짜장라면몸에 열을 내주는 겨울간식</th>\n",
       "      <td>0.0</td>\n",
       "      <td>0.0</td>\n",
       "      <td>0.0</td>\n",
       "      <td>6.0</td>\n",
       "      <td>0.0</td>\n",
       "      <td>0.0</td>\n",
       "      <td>0.0</td>\n",
       "      <td>0.0</td>\n",
       "      <td>0.0</td>\n",
       "      <td>0.0</td>\n",
       "      <td>...</td>\n",
       "      <td>4.0</td>\n",
       "      <td>0.0</td>\n",
       "      <td>4.0</td>\n",
       "      <td>0.0</td>\n",
       "      <td>0.0</td>\n",
       "      <td>0.0</td>\n",
       "      <td>1.0</td>\n",
       "      <td>0.0</td>\n",
       "      <td>0.0</td>\n",
       "      <td>0.0</td>\n",
       "    </tr>\n",
       "    <tr>\n",
       "      <th>69레시피 불고기 소고기볶음반찬</th>\n",
       "      <td>0.0</td>\n",
       "      <td>4.0</td>\n",
       "      <td>0.0</td>\n",
       "      <td>0.0</td>\n",
       "      <td>0.0</td>\n",
       "      <td>0.0</td>\n",
       "      <td>0.0</td>\n",
       "      <td>0.0</td>\n",
       "      <td>0.0</td>\n",
       "      <td>0.0</td>\n",
       "      <td>...</td>\n",
       "      <td>0.0</td>\n",
       "      <td>5.0</td>\n",
       "      <td>1.0</td>\n",
       "      <td>8.0</td>\n",
       "      <td>0.0</td>\n",
       "      <td>0.0</td>\n",
       "      <td>0.0</td>\n",
       "      <td>0.0</td>\n",
       "      <td>0.0</td>\n",
       "      <td>0.0</td>\n",
       "    </tr>\n",
       "    <tr>\n",
       "      <th>풋마늘 건새우 볶음나트륨 배출을 돕는 최애 반찬</th>\n",
       "      <td>0.0</td>\n",
       "      <td>0.0</td>\n",
       "      <td>0.0</td>\n",
       "      <td>0.0</td>\n",
       "      <td>0.0</td>\n",
       "      <td>0.0</td>\n",
       "      <td>6.0</td>\n",
       "      <td>0.0</td>\n",
       "      <td>0.0</td>\n",
       "      <td>0.0</td>\n",
       "      <td>...</td>\n",
       "      <td>0.0</td>\n",
       "      <td>0.0</td>\n",
       "      <td>2.0</td>\n",
       "      <td>7.0</td>\n",
       "      <td>0.0</td>\n",
       "      <td>0.0</td>\n",
       "      <td>0.0</td>\n",
       "      <td>0.0</td>\n",
       "      <td>0.0</td>\n",
       "      <td>0.0</td>\n",
       "    </tr>\n",
       "    <tr>\n",
       "      <th>최애반찬 소시지 감자조림</th>\n",
       "      <td>0.0</td>\n",
       "      <td>0.0</td>\n",
       "      <td>0.0</td>\n",
       "      <td>0.0</td>\n",
       "      <td>0.0</td>\n",
       "      <td>0.0</td>\n",
       "      <td>0.0</td>\n",
       "      <td>0.0</td>\n",
       "      <td>0.0</td>\n",
       "      <td>0.0</td>\n",
       "      <td>...</td>\n",
       "      <td>0.0</td>\n",
       "      <td>4.0</td>\n",
       "      <td>5.0</td>\n",
       "      <td>11.0</td>\n",
       "      <td>0.0</td>\n",
       "      <td>0.0</td>\n",
       "      <td>0.0</td>\n",
       "      <td>0.0</td>\n",
       "      <td>0.0</td>\n",
       "      <td>0.0</td>\n",
       "    </tr>\n",
       "    <tr>\n",
       "      <th>버섯으로 관자 느낌 내는 방법! 새송이버섯간장버터구이 만들기</th>\n",
       "      <td>0.0</td>\n",
       "      <td>0.0</td>\n",
       "      <td>0.0</td>\n",
       "      <td>0.0</td>\n",
       "      <td>0.0</td>\n",
       "      <td>0.0</td>\n",
       "      <td>0.0</td>\n",
       "      <td>2.0</td>\n",
       "      <td>0.0</td>\n",
       "      <td>0.0</td>\n",
       "      <td>...</td>\n",
       "      <td>0.0</td>\n",
       "      <td>2.0</td>\n",
       "      <td>0.0</td>\n",
       "      <td>2.0</td>\n",
       "      <td>0.0</td>\n",
       "      <td>0.0</td>\n",
       "      <td>0.0</td>\n",
       "      <td>0.0</td>\n",
       "      <td>0.0</td>\n",
       "      <td>0.0</td>\n",
       "    </tr>\n",
       "  </tbody>\n",
       "</table>\n",
       "<p>5 rows × 31 columns</p>\n",
       "</div>"
      ],
      "text/plain": [
       "                                   돼지고기  소고기  닭고기  오리고기  양고기   생선  갑각류  조개류  \\\n",
       "RECIPE_TITLE                                                                  \n",
       "밥솥 오리고기 짜장라면몸에 열을 내주는 겨울간식          0.0  0.0  0.0   6.0  0.0  0.0  0.0  0.0   \n",
       "69레시피 불고기 소고기볶음반찬                   0.0  4.0  0.0   0.0  0.0  0.0  0.0  0.0   \n",
       "풋마늘 건새우 볶음나트륨 배출을 돕는 최애 반찬          0.0  0.0  0.0   0.0  0.0  0.0  6.0  0.0   \n",
       "최애반찬 소시지 감자조림                       0.0  0.0  0.0   0.0  0.0  0.0  0.0  0.0   \n",
       "버섯으로 관자 느낌 내는 방법! 새송이버섯간장버터구이 만들기   0.0  0.0  0.0   0.0  0.0  0.0  0.0  2.0   \n",
       "\n",
       "                                   해조류  두족류  ...   면류  소스장류  유지류   조미료   육수  \\\n",
       "RECIPE_TITLE                                 ...                              \n",
       "밥솥 오리고기 짜장라면몸에 열을 내주는 겨울간식         0.0  0.0  ...  4.0   0.0  4.0   0.0  0.0   \n",
       "69레시피 불고기 소고기볶음반찬                  0.0  0.0  ...  0.0   5.0  1.0   8.0  0.0   \n",
       "풋마늘 건새우 볶음나트륨 배출을 돕는 최애 반찬         0.0  0.0  ...  0.0   0.0  2.0   7.0  0.0   \n",
       "최애반찬 소시지 감자조림                      0.0  0.0  ...  0.0   4.0  5.0  11.0  0.0   \n",
       "버섯으로 관자 느낌 내는 방법! 새송이버섯간장버터구이 만들기  0.0  0.0  ...  0.0   2.0  0.0   2.0  0.0   \n",
       "\n",
       "                                    가루  즉석식품  건조식품   빵류   주류  \n",
       "RECIPE_TITLE                                                  \n",
       "밥솥 오리고기 짜장라면몸에 열을 내주는 겨울간식         0.0   1.0   0.0  0.0  0.0  \n",
       "69레시피 불고기 소고기볶음반찬                  0.0   0.0   0.0  0.0  0.0  \n",
       "풋마늘 건새우 볶음나트륨 배출을 돕는 최애 반찬         0.0   0.0   0.0  0.0  0.0  \n",
       "최애반찬 소시지 감자조림                      0.0   0.0   0.0  0.0  0.0  \n",
       "버섯으로 관자 느낌 내는 방법! 새송이버섯간장버터구이 만들기  0.0   0.0   0.0  0.0  0.0  \n",
       "\n",
       "[5 rows x 31 columns]"
      ]
     },
     "execution_count": 26,
     "metadata": {},
     "output_type": "execute_result"
    }
   ],
   "source": [
    "data = pd.read_csv('data/recipe_ingredient_frequency.csv', index_col = 'RECIPE_TITLE')\n",
    "data = data.drop(columns=['RECIPE_ID'])\n",
    "data.head()"
   ]
  },
  {
   "cell_type": "code",
   "execution_count": 8,
   "metadata": {},
   "outputs": [],
   "source": [
    "def elbowMethod(start, end, step, data):\n",
    "    sse = []\n",
    "    clusters=list(range(start, end, step))\n",
    "\n",
    "    for k in clusters:\n",
    "        kmeans = KMeans(init=\"k-means++\", n_clusters=k, random_state=0)\n",
    "        kmeans.fit(data)\n",
    "        sse.append(kmeans.inertia_)\n",
    "\n",
    "    plt.figure(figsize=(6, 6))\n",
    "    plt.plot(clusters, sse, '-o')\n",
    "    plt.xlabel(r'Number of clusters *k*')\n",
    "    plt.ylabel('Sum of squared distance')"
   ]
  },
  {
   "cell_type": "code",
   "execution_count": 1,
   "metadata": {},
   "outputs": [],
   "source": [
    "def silhouetteAnalysis(start, end, step, data):\n",
    "    for i, k in enumerate(list(range(start, end, step))):\n",
    "        fig, ax1 = plt.subplots(1, 1)\n",
    "        fig.set_size_inches(18, 7)\n",
    "\n",
    "        # Run the Kmeans algorithm\n",
    "        km = KMeans(init=\"k-means++\", n_clusters=k, random_state=0)\n",
    "        labels = km.fit_predict(data)\n",
    "        centroids = km.cluster_centers_\n",
    "\n",
    "        # Get silhouette samples\n",
    "        silhouette_vals = silhouette_samples(data, labels)\n",
    "\n",
    "        # Silhouette plot\n",
    "        y_ticks = []\n",
    "        y_lower, y_upper = 0, 0\n",
    "        for i, cluster in enumerate(np.unique(labels)):\n",
    "            cluster_silhouette_vals = silhouette_vals[labels == cluster]\n",
    "            cluster_silhouette_vals.sort()\n",
    "            y_upper += len(cluster_silhouette_vals)\n",
    "            ax1.barh(range(y_lower, y_upper), cluster_silhouette_vals, edgecolor='none', height=1)\n",
    "            ax1.text(-0.03, (y_lower + y_upper) / 2, str(i + 1))\n",
    "            y_lower += len(cluster_silhouette_vals)\n",
    "\n",
    "        # Get the average silhouette score and plot it\n",
    "        avg_score = np.mean(silhouette_vals)\n",
    "        ax1.axvline(avg_score, linestyle='--', linewidth=2, color='green')\n",
    "        ax1.set_yticks([])\n",
    "        ax1.set_xlim([-0.1, 1])\n",
    "        ax1.set_xlabel('Silhouette coefficient values')\n",
    "        ax1.set_ylabel('Cluster labels')\n",
    "        ax1.set_title('Silhouette plot for the various clusters', y=1.02);\n",
    "        plt.tight_layout()\n",
    "        plt.suptitle(f'Silhouette analysis using k = {k}',\n",
    "                     fontsize=16, fontweight='semibold', y=1.05);"
   ]
  },
  {
   "cell_type": "code",
   "execution_count": 9,
   "metadata": {},
   "outputs": [
    {
     "data": {
      "image/png": "[encoded data removed]",
      "text/plain": [
       "<Figure size 432x432 with 1 Axes>"
      ]
     },
     "metadata": {
      "needs_background": "light"
     },
     "output_type": "display_data"
    }
   ],
   "source": [
    "elbowMethod(10, 60, 5, data)"
   ]
  },
  {
   "cell_type": "code",
   "execution_count": 41,
   "metadata": {},
   "outputs": [
    {
     "data": {
      "image/png": "[encoded data removed]",
      "text/plain": [
       "<Figure size 432x432 with 1 Axes>"
      ]
     },
     "metadata": {
      "needs_background": "light"
     },
     "output_type": "display_data"
    }
   ],
   "source": [
    "elbowMethod(5, 151, 5, data)"
   ]
  },
  {
   "cell_type": "code",
   "execution_count": 13,
   "metadata": {},
   "outputs": [
    {
     "data": {
      "image/png": "[encoded data removed]",
      "text/plain": [
       "<Figure size 432x432 with 1 Axes>"
      ]
     },
     "metadata": {
      "needs_background": "light"
     },
     "output_type": "display_data"
    }
   ],
   "source": [
    "elbowMethod(1, 100, 1, data)"
   ]
  },
  {
   "cell_type": "code",
   "execution_count": 2,
   "metadata": {},
   "outputs": [
    {
     "ename": "NameError",
     "evalue": "name 'data' is not defined",
     "output_type": "error",
     "traceback": [
      "\u001b[1;31m---------------------------------------------------------------------------\u001b[0m",
      "\u001b[1;31mNameError\u001b[0m                                 Traceback (most recent call last)",
      "\u001b[1;32m<ipython-input-2-e0f749007540>\u001b[0m in \u001b[0;36m<module>\u001b[1;34m\u001b[0m\n\u001b[1;32m----> 1\u001b[1;33m \u001b[0msilhouetteAnalysis\u001b[0m\u001b[1;33m(\u001b[0m\u001b[1;36m10\u001b[0m\u001b[1;33m,\u001b[0m \u001b[1;36m15\u001b[0m\u001b[1;33m,\u001b[0m \u001b[1;36m5\u001b[0m\u001b[1;33m,\u001b[0m \u001b[0mdata\u001b[0m\u001b[1;33m)\u001b[0m\u001b[1;33m\u001b[0m\u001b[1;33m\u001b[0m\u001b[0m\n\u001b[0m",
      "\u001b[1;31mNameError\u001b[0m: name 'data' is not defined"
     ]
    }
   ],
   "source": [
    "silhouetteAnalysis(10, 15, 5, data)"
   ]
  }
 ],
 "metadata": {
  "kernelspec": {
   "display_name": "Python 3",
   "language": "python",
   "name": "python3"
  },
  "language_info": {
   "codemirror_mode": {
    "name": "ipython",
    "version": 3
   },
   "file_extension": ".py",
   "mimetype": "text/x-python",
   "name": "python",
   "nbconvert_exporter": "python",
   "pygments_lexer": "ipython3",
   "version": "3.7.7"
  }
 },
 "nbformat": 4,
 "nbformat_minor": 4
}
